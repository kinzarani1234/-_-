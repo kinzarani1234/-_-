{
  "nbformat": 4,
  "nbformat_minor": 0,
  "metadata": {
    "colab": {
      "provenance": []
    },
    "kernelspec": {
      "name": "python3",
      "display_name": "Python 3"
    },
    "language_info": {
      "name": "python"
    }
  },
  "cells": [
    {
      "cell_type": "code",
      "source": [
        "import re\n",
        "from difflib import get_close_matches\n",
        "from collections import Counter\n",
        "from sklearn.metrics import accuracy_score, precision_score, recall_score, f1_score\n",
        "import matplotlib.pyplot as plt"
      ],
      "metadata": {
        "id": "6aX-AK-BnqWK"
      },
      "execution_count": null,
      "outputs": []
    },
    {
      "cell_type": "markdown",
      "source": [
        "\n",
        "### Step 1: Data Loading\n"
      ],
      "metadata": {
        "id": "s-3veEvhny4k"
      }
    },
    {
      "cell_type": "code",
      "source": [
        "def load_data(file_path):\n",
        "    \"\"\"Loads text data from a file.\"\"\"\n",
        "    with open(file_path, 'r', encoding='utf-8') as file:\n",
        "        return file.readlines()\n",
        "\n",
        "# Load the data\n",
        "train_data = load_data('train.txt')\n",
        "test_data = load_data('test.txt')\n",
        "val_data = load_data('val.txt')\n",
        "\n",
        "# Display first few lines to check\n",
        "print(\"Sample data from train.txt:\", train_data[:5])"
      ],
      "metadata": {
        "colab": {
          "base_uri": "https://localhost:8080/"
        },
        "id": "9-gAA_RNn4yQ",
        "outputId": "5bcb8d36-f58d-4c8f-c976-b410bf146972"
      },
      "execution_count": 13,
      "outputs": [
        {
          "output_type": "stream",
          "name": "stdout",
          "text": [
            "Sample data from train.txt: ['i didnt feel humiliated;sadness\\n', 'i can go from feeling so hopeless to so damned hopeful just from being around someone who cares and is awake;sadness\\n', 'im grabbing a minute to post i feel greedy wrong;anger\\n', 'i am ever feeling nostalgic about the fireplace i will know that it is still on the property;love\\n', 'i am feeling grouchy;anger\\n']\n"
          ]
        }
      ]
    },
    {
      "cell_type": "markdown",
      "source": [
        "\n",
        "### Step 2: Preprocessing the Text Data\n"
      ],
      "metadata": {
        "id": "68U_2F2uoMoH"
      }
    },
    {
      "cell_type": "code",
      "source": [
        "def preprocess_text(text_data):\n",
        "    \"\"\"\n",
        "    Cleans and preprocesses text data.\n",
        "    Removes non-alphanumeric characters, converts to lowercase,\n",
        "    and splits into words.\n",
        "    \"\"\"\n",
        "    cleaned_data = []\n",
        "    for line in text_data:\n",
        "        words = re.sub(r'[^A-Za-z0-9\\s]', '', line.lower()).split()\n",
        "        cleaned_data.extend(words)\n",
        "    return cleaned_data\n",
        "\n",
        "# Preprocess the data\n",
        "train_words = preprocess_text(train_data)\n",
        "test_words = preprocess_text(test_data)\n",
        "val_words = preprocess_text(val_data)\n",
        "\n",
        "# Display some of the cleaned words\n",
        "print(\"Sample cleaned train words:\", train_words[:10])"
      ],
      "metadata": {
        "colab": {
          "base_uri": "https://localhost:8080/"
        },
        "id": "kdlQVPiooSYg",
        "outputId": "40d6f6ba-7c01-4ad6-978e-9a1c6d86420f"
      },
      "execution_count": null,
      "outputs": [
        {
          "output_type": "stream",
          "name": "stdout",
          "text": [
            "Sample cleaned train words: ['i', 'didnt', 'feel', 'humiliatedsadness', 'i', 'can', 'go', 'from', 'feeling', 'so']\n"
          ]
        }
      ]
    },
    {
      "cell_type": "markdown",
      "source": [
        "\n",
        "### Step 3: Autocorrect Function\n"
      ],
      "metadata": {
        "id": "FncT6KL7oXZf"
      }
    },
    {
      "cell_type": "code",
      "source": [
        "def autocorrect(word, dictionary):\n",
        "    \"\"\"\n",
        "    Finds the closest match to the input word from the dictionary using difflib.\n",
        "    Returns the corrected word or the original word if no match is found.\n",
        "    \"\"\"\n",
        "    closest_match = get_close_matches(word, dictionary, n=1, cutoff=0.8)\n",
        "    return closest_match[0] if closest_match else word\n",
        "\n",
        "# Test autocorrect\n",
        "input_word = 'feelig'  # Misspelled word \"feeling\"\n",
        "corrected_word = autocorrect(input_word, train_words)\n",
        "print(f\"Autocorrected '{input_word}' -> '{corrected_word}'\")\n"
      ],
      "metadata": {
        "colab": {
          "base_uri": "https://localhost:8080/"
        },
        "id": "4Dbg8ejqobLY",
        "outputId": "ecb7a0d6-a79e-495e-d870-87789726cd3a"
      },
      "execution_count": 17,
      "outputs": [
        {
          "output_type": "stream",
          "name": "stdout",
          "text": [
            "Autocorrected 'feelig' -> 'feeling'\n"
          ]
        }
      ]
    },
    {
      "cell_type": "markdown",
      "source": [
        "\n",
        "### Step 4: Autocomplete Function using Bigrams\n"
      ],
      "metadata": {
        "id": "RURGjDh-ofeC"
      }
    },
    {
      "cell_type": "code",
      "source": [
        "def generate_bigrams(words):\n",
        "    \"\"\"Generates bigrams (pairs of consecutive words) from the given list of words.\"\"\"\n",
        "    bigrams = [(words[i], words[i+1]) for i in range(len(words)-1)]\n",
        "    return bigrams\n",
        "\n",
        "# Generate bigrams from the train data\n",
        "bigrams = generate_bigrams(train_words)\n",
        "\n",
        "# Get frequency of bigrams\n",
        "bigram_freq = Counter(bigrams)\n",
        "\n",
        "def autocomplete(word, bigram_freq):\n",
        "    \"\"\"Suggests the most likely next word for the given input word based on bigram frequencies.\"\"\"\n",
        "    possible_next_words = [bigram[1] for bigram in bigram_freq if bigram[0] == word]\n",
        "    return Counter(possible_next_words).most_common(1)\n",
        "\n",
        "# Test autocomplete\n",
        "input_word_for_autocomplete = 'love'\n",
        "suggested_word = autocomplete(input_word_for_autocomplete, bigram_freq)\n",
        "\n",
        "if suggested_word:\n",
        "    print(f\"Autocomplete for '{input_word_for_autocomplete}': Suggested next word -> '{suggested_word[0][0]}'\")\n",
        "else:\n",
        "    print(f\"No autocomplete suggestion found for: '{input_word_for_autocomplete}'\")"
      ],
      "metadata": {
        "id": "prnBZrJ9oi46",
        "colab": {
          "base_uri": "https://localhost:8080/"
        },
        "outputId": "af035d08-7184-42e8-8a76-98467d9e2edc"
      },
      "execution_count": 20,
      "outputs": [
        {
          "output_type": "stream",
          "name": "stdout",
          "text": [
            "Autocomplete for 'love': Suggested next word -> 'my'\n"
          ]
        }
      ]
    },
    {
      "cell_type": "markdown",
      "source": [
        "\n",
        "### Step 5: Define and Measure Performance Metrics\n"
      ],
      "metadata": {
        "id": "Uwdji3UroqJ3"
      }
    },
    {
      "cell_type": "code",
      "source": [
        "def evaluate_metrics(true_labels, predictions):\n",
        "    \"\"\"Calculates and prints performance metrics.\"\"\"\n",
        "    accuracy = accuracy_score(true_labels, predictions)\n",
        "    precision = precision_score(true_labels, predictions, average='weighted')\n",
        "    recall = recall_score(true_labels, predictions, average='weighted')\n",
        "    f1 = f1_score(true_labels, predictions, average='weighted')\n",
        "    print(\"Performance Metrics:\")\n",
        "    print(f\"Accuracy: {accuracy:.2f}\")\n",
        "    print(f\"Precision: {precision:.2f}\")\n",
        "    print(f\"Recall: {recall:.2f}\")\n",
        "    print(f\"F1 Score: {f1:.2f}\")\n",
        "\n",
        "# Example metric calculation\n",
        "# (Replace these values with actual predictions and true labels for a real test)\n",
        "true_labels = ['feeling', 'good', 'happy']\n",
        "predictions = ['feeling', 'great', 'happy']\n",
        "evaluate_metrics(true_labels, predictions)\n",
        "\n",
        "# ============================\n",
        "# Step 6: User Experience Assessment\n",
        "# ============================\n",
        "def collect_feedback():\n",
        "    \"\"\"Simulates collecting user feedback.\"\"\"\n",
        "    feedback = input(\"How would you rate the autocorrect and autocomplete features? (1-5): \")\n",
        "    print(f\"Thank you for your feedback: {feedback}\")\n",
        "\n",
        "# Collect user feedback\n",
        "collect_feedback()\n"
      ],
      "metadata": {
        "id": "KZAMsNGZou46",
        "colab": {
          "base_uri": "https://localhost:8080/"
        },
        "outputId": "435c2235-b9b7-46a7-ce63-47e2d1b7fe9b"
      },
      "execution_count": 21,
      "outputs": [
        {
          "output_type": "stream",
          "name": "stderr",
          "text": [
            "/usr/local/lib/python3.10/dist-packages/sklearn/metrics/_classification.py:1531: UndefinedMetricWarning: Precision is ill-defined and being set to 0.0 in labels with no predicted samples. Use `zero_division` parameter to control this behavior.\n",
            "  _warn_prf(average, modifier, f\"{metric.capitalize()} is\", len(result))\n",
            "/usr/local/lib/python3.10/dist-packages/sklearn/metrics/_classification.py:1531: UndefinedMetricWarning: Recall is ill-defined and being set to 0.0 in labels with no true samples. Use `zero_division` parameter to control this behavior.\n",
            "  _warn_prf(average, modifier, f\"{metric.capitalize()} is\", len(result))\n"
          ]
        },
        {
          "output_type": "stream",
          "name": "stdout",
          "text": [
            "Performance Metrics:\n",
            "Accuracy: 0.67\n",
            "Precision: 0.67\n",
            "Recall: 0.67\n",
            "F1 Score: 0.67\n",
            "How would you rate the autocorrect and autocomplete features? (1-5): 4\n",
            "Thank you for your feedback: 4\n"
          ]
        }
      ]
    },
    {
      "cell_type": "markdown",
      "source": [
        "\n",
        "### Step 7: Algorithm Comparison\n"
      ],
      "metadata": {
        "id": "ESRuAcTuo7ce"
      }
    },
    {
      "cell_type": "code",
      "source": [
        "def compare_algorithms(word, algorithms):\n",
        "    \"\"\"\n",
        "    Compares different algorithms for efficiency and accuracy.\n",
        "    \"\"\"\n",
        "    for algo_name, algo_func in algorithms.items():\n",
        "        result = algo_func(word)\n",
        "        print(f\"{algo_name}: Suggested -> {result}\")\n",
        "\n",
        "# Compare autocorrect implementations\n",
        "compare_algorithms(input_word, {\"Autocorrect (Difflib)\": lambda x: autocorrect(x, train_words)})\n"
      ],
      "metadata": {
        "id": "SNAdOl6Oo_y8",
        "colab": {
          "base_uri": "https://localhost:8080/"
        },
        "outputId": "63a9a31b-4989-4766-b601-f357d1ba2beb"
      },
      "execution_count": 22,
      "outputs": [
        {
          "output_type": "stream",
          "name": "stdout",
          "text": [
            "Autocorrect (Difflib): Suggested -> feeling\n"
          ]
        }
      ]
    },
    {
      "cell_type": "markdown",
      "source": [
        "\n",
        "### Step 8: Data Visualization\n"
      ],
      "metadata": {
        "id": "nzlPGtcUpBRY"
      }
    },
    {
      "cell_type": "code",
      "source": [
        "def visualize_word_frequencies(words):\n",
        "    \"\"\"Visualizes word frequencies using a bar chart.\"\"\"\n",
        "    word_counts = Counter(words)\n",
        "    most_common = word_counts.most_common(10)\n",
        "    words, counts = zip(*most_common)\n",
        "\n",
        "    plt.bar(words, counts)\n",
        "    plt.xlabel('Words')\n",
        "    plt.ylabel('Frequency')\n",
        "    plt.title('Top 10 Word Frequencies')\n",
        "    plt.xticks(rotation=45)\n",
        "    plt.show()\n",
        "\n",
        "# Visualize word frequencies in the train dataset\n",
        "visualize_word_frequencies(train_words)"
      ],
      "metadata": {
        "id": "nWZcDPfNpFCK",
        "colab": {
          "base_uri": "https://localhost:8080/",
          "height": 501
        },
        "outputId": "2616c3d9-c399-4084-d78c-775867bf1350"
      },
      "execution_count": 23,
      "outputs": [
        {
          "output_type": "display_data",
          "data": {
            "text/plain": [
              "<Figure size 640x480 with 1 Axes>"
            ],
            "image/png": "[encoded data removed]"
          },
          "metadata": {}
        }
      ]
    }
  ]
}